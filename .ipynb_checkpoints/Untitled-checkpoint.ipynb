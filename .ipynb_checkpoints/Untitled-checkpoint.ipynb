{
 "cells": [
  {
   "cell_type": "code",
   "execution_count": 2,
   "metadata": {},
   "outputs": [
    {
     "name": "stdout",
     "output_type": "stream",
     "text": [
      "Collecting pefile\n",
      "  Downloading pefile-2019.4.18.tar.gz (62 kB)\n",
      "\u001b[K     |████████████████████████████████| 62 kB 744 kB/s eta 0:00:01\n",
      "\u001b[?25hRequirement already satisfied: future in /Users/gaurishanand/opt/anaconda3/lib/python3.8/site-packages (from pefile) (0.18.2)\n",
      "Building wheels for collected packages: pefile\n",
      "  Building wheel for pefile (setup.py) ... \u001b[?25ldone\n",
      "\u001b[?25h  Created wheel for pefile: filename=pefile-2019.4.18-py3-none-any.whl size=60822 sha256=21cf4c0e50f02a40353b1666a49a035993b343772cb37d9772d73e8c3af7b9b8\n",
      "  Stored in directory: /Users/gaurishanand/Library/Caches/pip/wheels/42/52/d5/9550bbfb9eeceaf0f19db1cf651cc8ba41d3bcf8b4d20e4279\n",
      "Successfully built pefile\n",
      "Installing collected packages: pefile\n",
      "Successfully installed pefile-2019.4.18\n"
     ]
    }
   ],
   "source": [
    "# install pefile in system\n",
    "!pip install pefile"
   ]
  },
  {
   "cell_type": "code",
   "execution_count": 3,
   "metadata": {
    "scrolled": true
   },
   "outputs": [
    {
     "name": "stdout",
     "output_type": "stream",
     "text": [
      "Requirement already satisfied: pandas in /Users/gaurishanand/opt/anaconda3/lib/python3.8/site-packages (1.0.5)\r\n",
      "Requirement already satisfied: pytz>=2017.2 in /Users/gaurishanand/opt/anaconda3/lib/python3.8/site-packages (from pandas) (2020.1)\r\n",
      "Requirement already satisfied: numpy>=1.13.3 in /Users/gaurishanand/opt/anaconda3/lib/python3.8/site-packages (from pandas) (1.18.5)\r\n",
      "Requirement already satisfied: python-dateutil>=2.6.1 in /Users/gaurishanand/opt/anaconda3/lib/python3.8/site-packages (from pandas) (2.8.1)\r\n",
      "Requirement already satisfied: six>=1.5 in /Users/gaurishanand/opt/anaconda3/lib/python3.8/site-packages (from python-dateutil>=2.6.1->pandas) (1.15.0)\r\n"
     ]
    }
   ],
   "source": [
    "# install pandas\n",
    "!pip install pandas"
   ]
  },
  {
   "cell_type": "code",
   "execution_count": 1,
   "metadata": {},
   "outputs": [],
   "source": [
    "import pandas as pd\n",
    "malwareDataSet = pd.read_csv('MalwareData.csv.gz',sep = \"|\")\n",
    "\n",
    "# Dataset downloaded from here - \n",
    "# https://github.com/chihebchebbi/Mastering-Machine-Learning-for-Penetration-Testing/blob/master/Chapter03/MalwareData.csv.gz"
   ]
  },
  {
   "cell_type": "code",
   "execution_count": 2,
   "metadata": {},
   "outputs": [
    {
     "data": {
      "text/plain": [
       "Index(['Name', 'md5', 'Machine', 'SizeOfOptionalHeader', 'Characteristics',\n",
       "       'MajorLinkerVersion', 'MinorLinkerVersion', 'SizeOfCode',\n",
       "       'SizeOfInitializedData', 'SizeOfUninitializedData',\n",
       "       'AddressOfEntryPoint', 'BaseOfCode', 'BaseOfData', 'ImageBase',\n",
       "       'SectionAlignment', 'FileAlignment', 'MajorOperatingSystemVersion',\n",
       "       'MinorOperatingSystemVersion', 'MajorImageVersion', 'MinorImageVersion',\n",
       "       'MajorSubsystemVersion', 'MinorSubsystemVersion', 'SizeOfImage',\n",
       "       'SizeOfHeaders', 'CheckSum', 'Subsystem', 'DllCharacteristics',\n",
       "       'SizeOfStackReserve', 'SizeOfStackCommit', 'SizeOfHeapReserve',\n",
       "       'SizeOfHeapCommit', 'LoaderFlags', 'NumberOfRvaAndSizes', 'SectionsNb',\n",
       "       'SectionsMeanEntropy', 'SectionsMinEntropy', 'SectionsMaxEntropy',\n",
       "       'SectionsMeanRawsize', 'SectionsMinRawsize', 'SectionMaxRawsize',\n",
       "       'SectionsMeanVirtualsize', 'SectionsMinVirtualsize',\n",
       "       'SectionMaxVirtualsize', 'ImportsNbDLL', 'ImportsNb',\n",
       "       'ImportsNbOrdinal', 'ExportNb', 'ResourcesNb', 'ResourcesMeanEntropy',\n",
       "       'ResourcesMinEntropy', 'ResourcesMaxEntropy', 'ResourcesMeanSize',\n",
       "       'ResourcesMinSize', 'ResourcesMaxSize', 'LoadConfigurationSize',\n",
       "       'VersionInformationSize', 'legitimate'],\n",
       "      dtype='object')"
      ]
     },
     "execution_count": 2,
     "metadata": {},
     "output_type": "execute_result"
    }
   ],
   "source": [
    "malwareDataSet.columns"
   ]
  },
  {
   "cell_type": "code",
   "execution_count": 3,
   "metadata": {},
   "outputs": [
    {
     "data": {
      "text/plain": [
       "(138047, 57)"
      ]
     },
     "execution_count": 3,
     "metadata": {},
     "output_type": "execute_result"
    }
   ],
   "source": [
    "malwareDataSet.shape"
   ]
  },
  {
   "cell_type": "code",
   "execution_count": 4,
   "metadata": {},
   "outputs": [],
   "source": [
    "# In this Data Set , first 41323 files are normal binary files but last 96724 files are malware files\n",
    "# 138047 = 96724 + 41323"
   ]
  },
  {
   "cell_type": "code",
   "execution_count": 5,
   "metadata": {},
   "outputs": [
    {
     "data": {
      "text/html": [
       "<div>\n",
       "<style scoped>\n",
       "    .dataframe tbody tr th:only-of-type {\n",
       "        vertical-align: middle;\n",
       "    }\n",
       "\n",
       "    .dataframe tbody tr th {\n",
       "        vertical-align: top;\n",
       "    }\n",
       "\n",
       "    .dataframe thead th {\n",
       "        text-align: right;\n",
       "    }\n",
       "</style>\n",
       "<table border=\"1\" class=\"dataframe\">\n",
       "  <thead>\n",
       "    <tr style=\"text-align: right;\">\n",
       "      <th></th>\n",
       "      <th>Name</th>\n",
       "      <th>md5</th>\n",
       "      <th>Machine</th>\n",
       "      <th>SizeOfOptionalHeader</th>\n",
       "      <th>Characteristics</th>\n",
       "      <th>MajorLinkerVersion</th>\n",
       "      <th>MinorLinkerVersion</th>\n",
       "      <th>SizeOfCode</th>\n",
       "      <th>SizeOfInitializedData</th>\n",
       "      <th>SizeOfUninitializedData</th>\n",
       "      <th>...</th>\n",
       "      <th>ResourcesNb</th>\n",
       "      <th>ResourcesMeanEntropy</th>\n",
       "      <th>ResourcesMinEntropy</th>\n",
       "      <th>ResourcesMaxEntropy</th>\n",
       "      <th>ResourcesMeanSize</th>\n",
       "      <th>ResourcesMinSize</th>\n",
       "      <th>ResourcesMaxSize</th>\n",
       "      <th>LoadConfigurationSize</th>\n",
       "      <th>VersionInformationSize</th>\n",
       "      <th>legitimate</th>\n",
       "    </tr>\n",
       "  </thead>\n",
       "  <tbody>\n",
       "    <tr>\n",
       "      <th>0</th>\n",
       "      <td>memtest.exe</td>\n",
       "      <td>631ea355665f28d4707448e442fbf5b8</td>\n",
       "      <td>332</td>\n",
       "      <td>224</td>\n",
       "      <td>258</td>\n",
       "      <td>9</td>\n",
       "      <td>0</td>\n",
       "      <td>361984</td>\n",
       "      <td>115712</td>\n",
       "      <td>0</td>\n",
       "      <td>...</td>\n",
       "      <td>4</td>\n",
       "      <td>3.262823</td>\n",
       "      <td>2.568844</td>\n",
       "      <td>3.537939</td>\n",
       "      <td>8797.000000</td>\n",
       "      <td>216</td>\n",
       "      <td>18032</td>\n",
       "      <td>0</td>\n",
       "      <td>16</td>\n",
       "      <td>1</td>\n",
       "    </tr>\n",
       "    <tr>\n",
       "      <th>1</th>\n",
       "      <td>ose.exe</td>\n",
       "      <td>9d10f99a6712e28f8acd5641e3a7ea6b</td>\n",
       "      <td>332</td>\n",
       "      <td>224</td>\n",
       "      <td>3330</td>\n",
       "      <td>9</td>\n",
       "      <td>0</td>\n",
       "      <td>130560</td>\n",
       "      <td>19968</td>\n",
       "      <td>0</td>\n",
       "      <td>...</td>\n",
       "      <td>2</td>\n",
       "      <td>4.250461</td>\n",
       "      <td>3.420744</td>\n",
       "      <td>5.080177</td>\n",
       "      <td>837.000000</td>\n",
       "      <td>518</td>\n",
       "      <td>1156</td>\n",
       "      <td>72</td>\n",
       "      <td>18</td>\n",
       "      <td>1</td>\n",
       "    </tr>\n",
       "    <tr>\n",
       "      <th>2</th>\n",
       "      <td>setup.exe</td>\n",
       "      <td>4d92f518527353c0db88a70fddcfd390</td>\n",
       "      <td>332</td>\n",
       "      <td>224</td>\n",
       "      <td>3330</td>\n",
       "      <td>9</td>\n",
       "      <td>0</td>\n",
       "      <td>517120</td>\n",
       "      <td>621568</td>\n",
       "      <td>0</td>\n",
       "      <td>...</td>\n",
       "      <td>11</td>\n",
       "      <td>4.426324</td>\n",
       "      <td>2.846449</td>\n",
       "      <td>5.271813</td>\n",
       "      <td>31102.272727</td>\n",
       "      <td>104</td>\n",
       "      <td>270376</td>\n",
       "      <td>72</td>\n",
       "      <td>18</td>\n",
       "      <td>1</td>\n",
       "    </tr>\n",
       "    <tr>\n",
       "      <th>3</th>\n",
       "      <td>DW20.EXE</td>\n",
       "      <td>a41e524f8d45f0074fd07805ff0c9b12</td>\n",
       "      <td>332</td>\n",
       "      <td>224</td>\n",
       "      <td>258</td>\n",
       "      <td>9</td>\n",
       "      <td>0</td>\n",
       "      <td>585728</td>\n",
       "      <td>369152</td>\n",
       "      <td>0</td>\n",
       "      <td>...</td>\n",
       "      <td>10</td>\n",
       "      <td>4.364291</td>\n",
       "      <td>2.669314</td>\n",
       "      <td>6.400720</td>\n",
       "      <td>1457.000000</td>\n",
       "      <td>90</td>\n",
       "      <td>4264</td>\n",
       "      <td>72</td>\n",
       "      <td>18</td>\n",
       "      <td>1</td>\n",
       "    </tr>\n",
       "    <tr>\n",
       "      <th>4</th>\n",
       "      <td>dwtrig20.exe</td>\n",
       "      <td>c87e561258f2f8650cef999bf643a731</td>\n",
       "      <td>332</td>\n",
       "      <td>224</td>\n",
       "      <td>258</td>\n",
       "      <td>9</td>\n",
       "      <td>0</td>\n",
       "      <td>294912</td>\n",
       "      <td>247296</td>\n",
       "      <td>0</td>\n",
       "      <td>...</td>\n",
       "      <td>2</td>\n",
       "      <td>4.306100</td>\n",
       "      <td>3.421598</td>\n",
       "      <td>5.190603</td>\n",
       "      <td>1074.500000</td>\n",
       "      <td>849</td>\n",
       "      <td>1300</td>\n",
       "      <td>72</td>\n",
       "      <td>18</td>\n",
       "      <td>1</td>\n",
       "    </tr>\n",
       "  </tbody>\n",
       "</table>\n",
       "<p>5 rows × 57 columns</p>\n",
       "</div>"
      ],
      "text/plain": [
       "           Name                               md5  Machine  \\\n",
       "0   memtest.exe  631ea355665f28d4707448e442fbf5b8      332   \n",
       "1       ose.exe  9d10f99a6712e28f8acd5641e3a7ea6b      332   \n",
       "2     setup.exe  4d92f518527353c0db88a70fddcfd390      332   \n",
       "3      DW20.EXE  a41e524f8d45f0074fd07805ff0c9b12      332   \n",
       "4  dwtrig20.exe  c87e561258f2f8650cef999bf643a731      332   \n",
       "\n",
       "   SizeOfOptionalHeader  Characteristics  MajorLinkerVersion  \\\n",
       "0                   224              258                   9   \n",
       "1                   224             3330                   9   \n",
       "2                   224             3330                   9   \n",
       "3                   224              258                   9   \n",
       "4                   224              258                   9   \n",
       "\n",
       "   MinorLinkerVersion  SizeOfCode  SizeOfInitializedData  \\\n",
       "0                   0      361984                 115712   \n",
       "1                   0      130560                  19968   \n",
       "2                   0      517120                 621568   \n",
       "3                   0      585728                 369152   \n",
       "4                   0      294912                 247296   \n",
       "\n",
       "   SizeOfUninitializedData  ...  ResourcesNb  ResourcesMeanEntropy  \\\n",
       "0                        0  ...            4              3.262823   \n",
       "1                        0  ...            2              4.250461   \n",
       "2                        0  ...           11              4.426324   \n",
       "3                        0  ...           10              4.364291   \n",
       "4                        0  ...            2              4.306100   \n",
       "\n",
       "   ResourcesMinEntropy  ResourcesMaxEntropy  ResourcesMeanSize  \\\n",
       "0             2.568844             3.537939        8797.000000   \n",
       "1             3.420744             5.080177         837.000000   \n",
       "2             2.846449             5.271813       31102.272727   \n",
       "3             2.669314             6.400720        1457.000000   \n",
       "4             3.421598             5.190603        1074.500000   \n",
       "\n",
       "   ResourcesMinSize  ResourcesMaxSize  LoadConfigurationSize  \\\n",
       "0               216             18032                      0   \n",
       "1               518              1156                     72   \n",
       "2               104            270376                     72   \n",
       "3                90              4264                     72   \n",
       "4               849              1300                     72   \n",
       "\n",
       "   VersionInformationSize  legitimate  \n",
       "0                      16           1  \n",
       "1                      18           1  \n",
       "2                      18           1  \n",
       "3                      18           1  \n",
       "4                      18           1  \n",
       "\n",
       "[5 rows x 57 columns]"
      ]
     },
     "execution_count": 5,
     "metadata": {},
     "output_type": "execute_result"
    }
   ],
   "source": [
    "malwareDataSet.head()"
   ]
  },
  {
   "cell_type": "code",
   "execution_count": 6,
   "metadata": {},
   "outputs": [],
   "source": [
    "# We need to drop legitimate column(last column) for now as it tells whether the file is a malware or not.\n",
    "# if value = 1 -> File is not a malware\n",
    "# if value = 0 -> File is a malware"
   ]
  },
  {
   "cell_type": "code",
   "execution_count": 7,
   "metadata": {},
   "outputs": [],
   "source": [
    "legitFilesData = malwareDataSet[0:41323].drop([\"legitimate\"],axis=1)\n",
    "malwareFilesData = malwareDataSet[41323:].drop([\"legitimate\"],axis=1)"
   ]
  },
  {
   "cell_type": "code",
   "execution_count": 8,
   "metadata": {},
   "outputs": [
    {
     "data": {
      "text/html": [
       "<div>\n",
       "<style scoped>\n",
       "    .dataframe tbody tr th:only-of-type {\n",
       "        vertical-align: middle;\n",
       "    }\n",
       "\n",
       "    .dataframe tbody tr th {\n",
       "        vertical-align: top;\n",
       "    }\n",
       "\n",
       "    .dataframe thead th {\n",
       "        text-align: right;\n",
       "    }\n",
       "</style>\n",
       "<table border=\"1\" class=\"dataframe\">\n",
       "  <thead>\n",
       "    <tr style=\"text-align: right;\">\n",
       "      <th></th>\n",
       "      <th>Name</th>\n",
       "      <th>md5</th>\n",
       "      <th>Machine</th>\n",
       "      <th>SizeOfOptionalHeader</th>\n",
       "      <th>Characteristics</th>\n",
       "      <th>MajorLinkerVersion</th>\n",
       "      <th>MinorLinkerVersion</th>\n",
       "      <th>SizeOfCode</th>\n",
       "      <th>SizeOfInitializedData</th>\n",
       "      <th>SizeOfUninitializedData</th>\n",
       "      <th>...</th>\n",
       "      <th>ExportNb</th>\n",
       "      <th>ResourcesNb</th>\n",
       "      <th>ResourcesMeanEntropy</th>\n",
       "      <th>ResourcesMinEntropy</th>\n",
       "      <th>ResourcesMaxEntropy</th>\n",
       "      <th>ResourcesMeanSize</th>\n",
       "      <th>ResourcesMinSize</th>\n",
       "      <th>ResourcesMaxSize</th>\n",
       "      <th>LoadConfigurationSize</th>\n",
       "      <th>VersionInformationSize</th>\n",
       "    </tr>\n",
       "  </thead>\n",
       "  <tbody>\n",
       "    <tr>\n",
       "      <th>0</th>\n",
       "      <td>memtest.exe</td>\n",
       "      <td>631ea355665f28d4707448e442fbf5b8</td>\n",
       "      <td>332</td>\n",
       "      <td>224</td>\n",
       "      <td>258</td>\n",
       "      <td>9</td>\n",
       "      <td>0</td>\n",
       "      <td>361984</td>\n",
       "      <td>115712</td>\n",
       "      <td>0</td>\n",
       "      <td>...</td>\n",
       "      <td>0</td>\n",
       "      <td>4</td>\n",
       "      <td>3.262823</td>\n",
       "      <td>2.568844</td>\n",
       "      <td>3.537939</td>\n",
       "      <td>8797.000000</td>\n",
       "      <td>216</td>\n",
       "      <td>18032</td>\n",
       "      <td>0</td>\n",
       "      <td>16</td>\n",
       "    </tr>\n",
       "    <tr>\n",
       "      <th>1</th>\n",
       "      <td>ose.exe</td>\n",
       "      <td>9d10f99a6712e28f8acd5641e3a7ea6b</td>\n",
       "      <td>332</td>\n",
       "      <td>224</td>\n",
       "      <td>3330</td>\n",
       "      <td>9</td>\n",
       "      <td>0</td>\n",
       "      <td>130560</td>\n",
       "      <td>19968</td>\n",
       "      <td>0</td>\n",
       "      <td>...</td>\n",
       "      <td>0</td>\n",
       "      <td>2</td>\n",
       "      <td>4.250461</td>\n",
       "      <td>3.420744</td>\n",
       "      <td>5.080177</td>\n",
       "      <td>837.000000</td>\n",
       "      <td>518</td>\n",
       "      <td>1156</td>\n",
       "      <td>72</td>\n",
       "      <td>18</td>\n",
       "    </tr>\n",
       "    <tr>\n",
       "      <th>2</th>\n",
       "      <td>setup.exe</td>\n",
       "      <td>4d92f518527353c0db88a70fddcfd390</td>\n",
       "      <td>332</td>\n",
       "      <td>224</td>\n",
       "      <td>3330</td>\n",
       "      <td>9</td>\n",
       "      <td>0</td>\n",
       "      <td>517120</td>\n",
       "      <td>621568</td>\n",
       "      <td>0</td>\n",
       "      <td>...</td>\n",
       "      <td>1</td>\n",
       "      <td>11</td>\n",
       "      <td>4.426324</td>\n",
       "      <td>2.846449</td>\n",
       "      <td>5.271813</td>\n",
       "      <td>31102.272727</td>\n",
       "      <td>104</td>\n",
       "      <td>270376</td>\n",
       "      <td>72</td>\n",
       "      <td>18</td>\n",
       "    </tr>\n",
       "    <tr>\n",
       "      <th>3</th>\n",
       "      <td>DW20.EXE</td>\n",
       "      <td>a41e524f8d45f0074fd07805ff0c9b12</td>\n",
       "      <td>332</td>\n",
       "      <td>224</td>\n",
       "      <td>258</td>\n",
       "      <td>9</td>\n",
       "      <td>0</td>\n",
       "      <td>585728</td>\n",
       "      <td>369152</td>\n",
       "      <td>0</td>\n",
       "      <td>...</td>\n",
       "      <td>1</td>\n",
       "      <td>10</td>\n",
       "      <td>4.364291</td>\n",
       "      <td>2.669314</td>\n",
       "      <td>6.400720</td>\n",
       "      <td>1457.000000</td>\n",
       "      <td>90</td>\n",
       "      <td>4264</td>\n",
       "      <td>72</td>\n",
       "      <td>18</td>\n",
       "    </tr>\n",
       "    <tr>\n",
       "      <th>4</th>\n",
       "      <td>dwtrig20.exe</td>\n",
       "      <td>c87e561258f2f8650cef999bf643a731</td>\n",
       "      <td>332</td>\n",
       "      <td>224</td>\n",
       "      <td>258</td>\n",
       "      <td>9</td>\n",
       "      <td>0</td>\n",
       "      <td>294912</td>\n",
       "      <td>247296</td>\n",
       "      <td>0</td>\n",
       "      <td>...</td>\n",
       "      <td>1</td>\n",
       "      <td>2</td>\n",
       "      <td>4.306100</td>\n",
       "      <td>3.421598</td>\n",
       "      <td>5.190603</td>\n",
       "      <td>1074.500000</td>\n",
       "      <td>849</td>\n",
       "      <td>1300</td>\n",
       "      <td>72</td>\n",
       "      <td>18</td>\n",
       "    </tr>\n",
       "    <tr>\n",
       "      <th>...</th>\n",
       "      <td>...</td>\n",
       "      <td>...</td>\n",
       "      <td>...</td>\n",
       "      <td>...</td>\n",
       "      <td>...</td>\n",
       "      <td>...</td>\n",
       "      <td>...</td>\n",
       "      <td>...</td>\n",
       "      <td>...</td>\n",
       "      <td>...</td>\n",
       "      <td>...</td>\n",
       "      <td>...</td>\n",
       "      <td>...</td>\n",
       "      <td>...</td>\n",
       "      <td>...</td>\n",
       "      <td>...</td>\n",
       "      <td>...</td>\n",
       "      <td>...</td>\n",
       "      <td>...</td>\n",
       "      <td>...</td>\n",
       "      <td>...</td>\n",
       "    </tr>\n",
       "    <tr>\n",
       "      <th>41318</th>\n",
       "      <td>mfc80.dll</td>\n",
       "      <td>1f5afd468eb5e09e9ed75a087529eab5</td>\n",
       "      <td>332</td>\n",
       "      <td>224</td>\n",
       "      <td>8450</td>\n",
       "      <td>8</td>\n",
       "      <td>0</td>\n",
       "      <td>946176</td>\n",
       "      <td>159744</td>\n",
       "      <td>0</td>\n",
       "      <td>...</td>\n",
       "      <td>0</td>\n",
       "      <td>123</td>\n",
       "      <td>2.607251</td>\n",
       "      <td>0.960953</td>\n",
       "      <td>5.130762</td>\n",
       "      <td>327.170732</td>\n",
       "      <td>20</td>\n",
       "      <td>1592</td>\n",
       "      <td>72</td>\n",
       "      <td>16</td>\n",
       "    </tr>\n",
       "    <tr>\n",
       "      <th>41319</th>\n",
       "      <td>mfc80u.dll</td>\n",
       "      <td>e2c48cd0132d4d1dc7d0df9a6bef686a</td>\n",
       "      <td>332</td>\n",
       "      <td>224</td>\n",
       "      <td>8450</td>\n",
       "      <td>8</td>\n",
       "      <td>0</td>\n",
       "      <td>946176</td>\n",
       "      <td>154624</td>\n",
       "      <td>0</td>\n",
       "      <td>...</td>\n",
       "      <td>0</td>\n",
       "      <td>123</td>\n",
       "      <td>2.607232</td>\n",
       "      <td>0.960953</td>\n",
       "      <td>5.130762</td>\n",
       "      <td>327.235772</td>\n",
       "      <td>20</td>\n",
       "      <td>1592</td>\n",
       "      <td>72</td>\n",
       "      <td>16</td>\n",
       "    </tr>\n",
       "    <tr>\n",
       "      <th>41320</th>\n",
       "      <td>mfcm80.dll</td>\n",
       "      <td>83362ee950ad18adb85b54409155c378</td>\n",
       "      <td>332</td>\n",
       "      <td>224</td>\n",
       "      <td>8450</td>\n",
       "      <td>8</td>\n",
       "      <td>0</td>\n",
       "      <td>53248</td>\n",
       "      <td>16384</td>\n",
       "      <td>0</td>\n",
       "      <td>...</td>\n",
       "      <td>25</td>\n",
       "      <td>1</td>\n",
       "      <td>3.524268</td>\n",
       "      <td>3.524268</td>\n",
       "      <td>3.524268</td>\n",
       "      <td>892.000000</td>\n",
       "      <td>892</td>\n",
       "      <td>892</td>\n",
       "      <td>72</td>\n",
       "      <td>16</td>\n",
       "    </tr>\n",
       "    <tr>\n",
       "      <th>41321</th>\n",
       "      <td>mfcm80u.dll</td>\n",
       "      <td>26aafee5c30020c99120ee113d751f7e</td>\n",
       "      <td>332</td>\n",
       "      <td>224</td>\n",
       "      <td>8450</td>\n",
       "      <td>8</td>\n",
       "      <td>0</td>\n",
       "      <td>52736</td>\n",
       "      <td>11264</td>\n",
       "      <td>0</td>\n",
       "      <td>...</td>\n",
       "      <td>25</td>\n",
       "      <td>1</td>\n",
       "      <td>3.542071</td>\n",
       "      <td>3.542071</td>\n",
       "      <td>3.542071</td>\n",
       "      <td>892.000000</td>\n",
       "      <td>892</td>\n",
       "      <td>892</td>\n",
       "      <td>72</td>\n",
       "      <td>16</td>\n",
       "    </tr>\n",
       "    <tr>\n",
       "      <th>41322</th>\n",
       "      <td>vcomp.dll</td>\n",
       "      <td>73dbaa64d589f3262615550dd6881fee</td>\n",
       "      <td>332</td>\n",
       "      <td>224</td>\n",
       "      <td>8450</td>\n",
       "      <td>8</td>\n",
       "      <td>0</td>\n",
       "      <td>40960</td>\n",
       "      <td>20480</td>\n",
       "      <td>0</td>\n",
       "      <td>...</td>\n",
       "      <td>112</td>\n",
       "      <td>6</td>\n",
       "      <td>3.004383</td>\n",
       "      <td>2.406512</td>\n",
       "      <td>3.592623</td>\n",
       "      <td>610.333333</td>\n",
       "      <td>124</td>\n",
       "      <td>1412</td>\n",
       "      <td>72</td>\n",
       "      <td>16</td>\n",
       "    </tr>\n",
       "  </tbody>\n",
       "</table>\n",
       "<p>41323 rows × 56 columns</p>\n",
       "</div>"
      ],
      "text/plain": [
       "               Name                               md5  Machine  \\\n",
       "0       memtest.exe  631ea355665f28d4707448e442fbf5b8      332   \n",
       "1           ose.exe  9d10f99a6712e28f8acd5641e3a7ea6b      332   \n",
       "2         setup.exe  4d92f518527353c0db88a70fddcfd390      332   \n",
       "3          DW20.EXE  a41e524f8d45f0074fd07805ff0c9b12      332   \n",
       "4      dwtrig20.exe  c87e561258f2f8650cef999bf643a731      332   \n",
       "...             ...                               ...      ...   \n",
       "41318     mfc80.dll  1f5afd468eb5e09e9ed75a087529eab5      332   \n",
       "41319    mfc80u.dll  e2c48cd0132d4d1dc7d0df9a6bef686a      332   \n",
       "41320    mfcm80.dll  83362ee950ad18adb85b54409155c378      332   \n",
       "41321   mfcm80u.dll  26aafee5c30020c99120ee113d751f7e      332   \n",
       "41322     vcomp.dll  73dbaa64d589f3262615550dd6881fee      332   \n",
       "\n",
       "       SizeOfOptionalHeader  Characteristics  MajorLinkerVersion  \\\n",
       "0                       224              258                   9   \n",
       "1                       224             3330                   9   \n",
       "2                       224             3330                   9   \n",
       "3                       224              258                   9   \n",
       "4                       224              258                   9   \n",
       "...                     ...              ...                 ...   \n",
       "41318                   224             8450                   8   \n",
       "41319                   224             8450                   8   \n",
       "41320                   224             8450                   8   \n",
       "41321                   224             8450                   8   \n",
       "41322                   224             8450                   8   \n",
       "\n",
       "       MinorLinkerVersion  SizeOfCode  SizeOfInitializedData  \\\n",
       "0                       0      361984                 115712   \n",
       "1                       0      130560                  19968   \n",
       "2                       0      517120                 621568   \n",
       "3                       0      585728                 369152   \n",
       "4                       0      294912                 247296   \n",
       "...                   ...         ...                    ...   \n",
       "41318                   0      946176                 159744   \n",
       "41319                   0      946176                 154624   \n",
       "41320                   0       53248                  16384   \n",
       "41321                   0       52736                  11264   \n",
       "41322                   0       40960                  20480   \n",
       "\n",
       "       SizeOfUninitializedData  ...  ExportNb  ResourcesNb  \\\n",
       "0                            0  ...         0            4   \n",
       "1                            0  ...         0            2   \n",
       "2                            0  ...         1           11   \n",
       "3                            0  ...         1           10   \n",
       "4                            0  ...         1            2   \n",
       "...                        ...  ...       ...          ...   \n",
       "41318                        0  ...         0          123   \n",
       "41319                        0  ...         0          123   \n",
       "41320                        0  ...        25            1   \n",
       "41321                        0  ...        25            1   \n",
       "41322                        0  ...       112            6   \n",
       "\n",
       "       ResourcesMeanEntropy  ResourcesMinEntropy  ResourcesMaxEntropy  \\\n",
       "0                  3.262823             2.568844             3.537939   \n",
       "1                  4.250461             3.420744             5.080177   \n",
       "2                  4.426324             2.846449             5.271813   \n",
       "3                  4.364291             2.669314             6.400720   \n",
       "4                  4.306100             3.421598             5.190603   \n",
       "...                     ...                  ...                  ...   \n",
       "41318              2.607251             0.960953             5.130762   \n",
       "41319              2.607232             0.960953             5.130762   \n",
       "41320              3.524268             3.524268             3.524268   \n",
       "41321              3.542071             3.542071             3.542071   \n",
       "41322              3.004383             2.406512             3.592623   \n",
       "\n",
       "       ResourcesMeanSize  ResourcesMinSize  ResourcesMaxSize  \\\n",
       "0            8797.000000               216             18032   \n",
       "1             837.000000               518              1156   \n",
       "2           31102.272727               104            270376   \n",
       "3            1457.000000                90              4264   \n",
       "4            1074.500000               849              1300   \n",
       "...                  ...               ...               ...   \n",
       "41318         327.170732                20              1592   \n",
       "41319         327.235772                20              1592   \n",
       "41320         892.000000               892               892   \n",
       "41321         892.000000               892               892   \n",
       "41322         610.333333               124              1412   \n",
       "\n",
       "       LoadConfigurationSize  VersionInformationSize  \n",
       "0                          0                      16  \n",
       "1                         72                      18  \n",
       "2                         72                      18  \n",
       "3                         72                      18  \n",
       "4                         72                      18  \n",
       "...                      ...                     ...  \n",
       "41318                     72                      16  \n",
       "41319                     72                      16  \n",
       "41320                     72                      16  \n",
       "41321                     72                      16  \n",
       "41322                     72                      16  \n",
       "\n",
       "[41323 rows x 56 columns]"
      ]
     },
     "execution_count": 8,
     "metadata": {},
     "output_type": "execute_result"
    }
   ],
   "source": [
    "legitFilesData"
   ]
  },
  {
   "cell_type": "code",
   "execution_count": 9,
   "metadata": {},
   "outputs": [
    {
     "name": "stdout",
     "output_type": "stream",
     "text": [
      "Number of legit Files =  41323\n",
      "Number of Malware Files =  96724\n"
     ]
    }
   ],
   "source": [
    "print(\"Number of legit Files = \" , legitFilesData.shape[0])\n",
    "print(\"Number of Malware Files = \" , malwareFilesData.shape[0])"
   ]
  },
  {
   "cell_type": "code",
   "execution_count": 10,
   "metadata": {},
   "outputs": [
    {
     "name": "stdout",
     "output_type": "stream",
     "text": [
      "Total number of features in these files =  56\n"
     ]
    }
   ],
   "source": [
    "print(\"Total number of features in these files = \" ,legitFilesData.shape[1])"
   ]
  },
  {
   "cell_type": "code",
   "execution_count": 11,
   "metadata": {},
   "outputs": [],
   "source": [
    "# PE file help windows to manage the executable code inside the files"
   ]
  },
  {
   "cell_type": "code",
   "execution_count": 12,
   "metadata": {},
   "outputs": [],
   "source": [
    "input_data = malwareDataSet.drop([\"Name\",\"md5\",\"legitimate\"],axis=1).values\n",
    "labels = malwareDataSet[\"legitimate\"].values"
   ]
  },
  {
   "cell_type": "code",
   "execution_count": 13,
   "metadata": {},
   "outputs": [
    {
     "name": "stdout",
     "output_type": "stream",
     "text": [
      "Shape of Input Data  (138047, 54)\n",
      "Shape of labels  (138047,)\n"
     ]
    }
   ],
   "source": [
    "print(\"Shape of Input Data \",input_data.shape)\n",
    "print(\"Shape of labels \",labels.shape)"
   ]
  },
  {
   "cell_type": "markdown",
   "metadata": {},
   "source": [
    "## Naive Bayes"
   ]
  },
  {
   "cell_type": "code",
   "execution_count": 15,
   "metadata": {},
   "outputs": [
    {
     "name": "stdout",
     "output_type": "stream",
     "text": [
      "(96632, 54) (96632,)\n",
      "(41415, 54) (41415,)\n"
     ]
    }
   ],
   "source": [
    "import sklearn\n",
    "\n",
    "# 70% training and 30% test data\n",
    "X_train, X_test, y_train, y_test = sklearn.model_selection.train_test_split(input_data, labels, test_size=0.3) \n",
    "print(X_train.shape,y_train.shape)\n",
    "print(X_test.shape,y_test.shape)\n"
   ]
  },
  {
   "cell_type": "code",
   "execution_count": 48,
   "metadata": {},
   "outputs": [],
   "source": [
    "from sklearn.naive_bayes import GaussianNB"
   ]
  },
  {
   "cell_type": "code",
   "execution_count": 49,
   "metadata": {},
   "outputs": [],
   "source": [
    "#Create a Gaussian Classifier\n",
    "gnb = GaussianNB()\n",
    "#Train the model using the training sets\n",
    "gnb.fit(X_train, y_train)\n",
    "\n",
    "#Predict the response for test dataset\n",
    "y_pred = gnb.predict(X_test)"
   ]
  },
  {
   "cell_type": "code",
   "execution_count": 52,
   "metadata": {},
   "outputs": [
    {
     "name": "stdout",
     "output_type": "stream",
     "text": [
      "Accuracy from Naive Bayes :  70.08813231920801\n"
     ]
    }
   ],
   "source": [
    "from sklearn import metrics\n",
    "print(\"Accuracy from Naive Bayes : \",metrics.accuracy_score(y_test, y_pred)*100)\n"
   ]
  },
  {
   "cell_type": "markdown",
   "metadata": {},
   "source": [
    "## Logistic Regression"
   ]
  },
  {
   "cell_type": "code",
   "execution_count": 56,
   "metadata": {},
   "outputs": [],
   "source": [
    "from sklearn.linear_model import LogisticRegression"
   ]
  },
  {
   "cell_type": "code",
   "execution_count": 57,
   "metadata": {},
   "outputs": [
    {
     "name": "stderr",
     "output_type": "stream",
     "text": [
      "/Users/gaurishanand/opt/anaconda3/lib/python3.8/site-packages/sklearn/linear_model/_logistic.py:762: ConvergenceWarning: lbfgs failed to converge (status=2):\n",
      "ABNORMAL_TERMINATION_IN_LNSRCH.\n",
      "\n",
      "Increase the number of iterations (max_iter) or scale the data as shown in:\n",
      "    https://scikit-learn.org/stable/modules/preprocessing.html\n",
      "Please also refer to the documentation for alternative solver options:\n",
      "    https://scikit-learn.org/stable/modules/linear_model.html#logistic-regression\n",
      "  n_iter_i = _check_optimize_result(\n"
     ]
    }
   ],
   "source": [
    "model = LogisticRegression()\n",
    "X_train, X_test, y_train, y_test = sklearn.model_selection.train_test_split(input_data, labels, test_size=0.3) \n",
    "model.fit(X_train,y_train)\n",
    "\n",
    "y_predicted = pd.Series(model.predict(X_test))\n"
   ]
  },
  {
   "cell_type": "code",
   "execution_count": 58,
   "metadata": {},
   "outputs": [
    {
     "name": "stdout",
     "output_type": "stream",
     "text": [
      "Accuracy from Naive Bayes :  69.933598937583\n"
     ]
    }
   ],
   "source": [
    "print(\"Accuracy from Naive Bayes : \",metrics.accuracy_score(y_test, y_predicted)*100)"
   ]
  },
  {
   "cell_type": "markdown",
   "metadata": {},
   "source": [
    "## K-nearest neighbors (KNN)"
   ]
  },
  {
   "cell_type": "code",
   "execution_count": 59,
   "metadata": {},
   "outputs": [],
   "source": [
    "from sklearn.neighbors import KNeighborsClassifier"
   ]
  },
  {
   "cell_type": "code",
   "execution_count": 60,
   "metadata": {},
   "outputs": [
    {
     "name": "stdout",
     "output_type": "stream",
     "text": [
      "Accuracy Of KNN : 0.9867197875166003\n"
     ]
    }
   ],
   "source": [
    "#Create KNN Classifier\n",
    "knn = KNeighborsClassifier(n_neighbors=7)\n",
    "\n",
    "#Train the model using the training sets\n",
    "knn.fit(X_train, y_train)\n",
    "\n",
    "#Predict the response for test dataset\n",
    "y_predicted = knn.predict(X_test)\n",
    "\n",
    "print(\"Accuracy Of KNN :\",metrics.accuracy_score(y_test, y_predicted)) "
   ]
  },
  {
   "cell_type": "code",
   "execution_count": 61,
   "metadata": {},
   "outputs": [
    {
     "name": "stdout",
     "output_type": "stream",
     "text": [
      "Accuracy Of FINAL KNN : 98.67197875166002\n"
     ]
    }
   ],
   "source": [
    "print(\"Accuracy Of FINAL KNN :\",(0.9867197875166003)*100) "
   ]
  },
  {
   "cell_type": "markdown",
   "metadata": {},
   "source": [
    "## Support-vector machines (SVM)"
   ]
  },
  {
   "cell_type": "code",
   "execution_count": null,
   "metadata": {},
   "outputs": [],
   "source": [
    "#Import svm model\n",
    "from sklearn import svm\n",
    "\n",
    "#Create a svm Classifier\n",
    "clf = svm.SVC(kernel='linear') # Linear Kernel\n",
    "\n",
    "#Train the model using the training sets\n",
    "clf.fit(X_train, y_train)\n",
    "\n",
    "#Predict the response for test dataset\n",
    "y_predicted = clf.predict(X_test)"
   ]
  },
  {
   "cell_type": "code",
   "execution_count": null,
   "metadata": {},
   "outputs": [],
   "source": [
    "print(\"Accuracy FROM SVM ALGO :\",metrics.accuracy_score(y_test, y_predicted))"
   ]
  },
  {
   "cell_type": "markdown",
   "metadata": {},
   "source": [
    "## Decision Trees"
   ]
  },
  {
   "cell_type": "code",
   "execution_count": 16,
   "metadata": {},
   "outputs": [],
   "source": [
    "from sklearn.tree import DecisionTreeClassifier"
   ]
  },
  {
   "cell_type": "code",
   "execution_count": 19,
   "metadata": {},
   "outputs": [
    {
     "name": "stdout",
     "output_type": "stream",
     "text": [
      "Accuracy from Decision Trees Algo : 98.57539538814439\n"
     ]
    }
   ],
   "source": [
    "# Create Decision Tree classifer object\n",
    "clf = DecisionTreeClassifier(criterion=\"entropy\", max_depth=3)\n",
    "\n",
    "# Train Decision Tree Classifer\n",
    "clf = clf.fit(X_train,y_train)\n",
    "\n",
    "#Predict the response for test dataset\n",
    "y_predicted = clf.predict(X_test)\n",
    "\n",
    "# Model Accuracy, how often is the classifier correct?\n",
    "from sklearn import metrics\n",
    "print(\"Accuracy from Decision Trees Algo :\",metrics.accuracy_score(y_test, y_predicted)*100)"
   ]
  },
  {
   "cell_type": "markdown",
   "metadata": {},
   "source": [
    "## Tree Classifier"
   ]
  },
  {
   "cell_type": "code",
   "execution_count": 34,
   "metadata": {},
   "outputs": [],
   "source": [
    "from sklearn.ensemble import ExtraTreesClassifier\n",
    "from sklearn.feature_selection import SelectFromModel\n",
    "from sklearn.model_selection import train_test_split\n",
    "from sklearn.model_selection import cross_validate"
   ]
  },
  {
   "cell_type": "code",
   "execution_count": 37,
   "metadata": {},
   "outputs": [],
   "source": [
    "import numpy as np"
   ]
  },
  {
   "cell_type": "code",
   "execution_count": 38,
   "metadata": {},
   "outputs": [
    {
     "name": "stdout",
     "output_type": "stream",
     "text": [
      "(138047, 54) (138047, 15)\n"
     ]
    }
   ],
   "source": [
    "extraTrees = ExtraTreesClassifier().fit(input_data,labels)\n",
    "select = SelectFromModel(extraTrees,prefit=True)\n",
    "data_in_new = select.transform(input_data)\n",
    "print(input_data.shape,data_in_new.shape)"
   ]
  },
  {
   "cell_type": "code",
   "execution_count": 39,
   "metadata": {},
   "outputs": [
    {
     "name": "stdout",
     "output_type": "stream",
     "text": [
      "1 DllCharacteristics 0.18345195843060824\n",
      "2 Machine 0.11156469392732546\n",
      "3 Characteristics 0.10243921781689089\n",
      "4 ResourcesMaxEntropy 0.05359268251375749\n",
      "5 Subsystem 0.0520075106156964\n",
      "6 VersionInformationSize 0.047059398068969194\n",
      "7 MajorSubsystemVersion 0.044520561906940946\n",
      "8 ResourcesMinEntropy 0.04365801864593107\n",
      "9 ImageBase 0.04271986899100529\n",
      "10 SizeOfStackReserve 0.037877960463178026\n",
      "11 SectionsMaxEntropy 0.0374425932444791\n",
      "12 SizeOfOptionalHeader 0.03166100588755318\n",
      "13 SectionsMinEntropy 0.026125066124359834\n",
      "14 SectionsMeanEntropy 0.019288253024944985\n",
      "15 MajorOperatingSystemVersion 0.01905441559541816\n"
     ]
    }
   ],
   "source": [
    "features = data_in_new.shape[1]\n",
    "importances = extraTrees.feature_importances_\n",
    "indices = np.argsort(importances)[::-1]\n",
    "\n",
    "for f in range(features):\n",
    "    print(\"%d\"%(f+1),malwareDataSet.columns[2+indices[f]],importances[indices[f]])"
   ]
  },
  {
   "cell_type": "code",
   "execution_count": 44,
   "metadata": {},
   "outputs": [
    {
     "data": {
      "text/plain": [
       "RandomForestClassifier(n_estimators=50)"
      ]
     },
     "execution_count": 44,
     "metadata": {},
     "output_type": "execute_result"
    }
   ],
   "source": [
    "from sklearn.ensemble import RandomForestClassifier\n",
    "import sklearn\n",
    "legit_train,legit_test,mal_train,mal_test = sklearn.model_selection.train_test_split(data_in_new,labels,test_size=0.2)\n",
    "classif = RandomForestClassifier(n_estimators=50)\n",
    "\n",
    "classif.fit(legit_train,mal_train)"
   ]
  },
  {
   "cell_type": "code",
   "execution_count": 45,
   "metadata": {},
   "outputs": [
    {
     "name": "stdout",
     "output_type": "stream",
     "text": [
      "Accuracy of the algorithm of the above data is =  99.40239043824701\n"
     ]
    }
   ],
   "source": [
    "print(\"Accuracy of the algorithm of the above data is = \",classif.score(legit_test,mal_test)*100)"
   ]
  },
  {
   "cell_type": "code",
   "execution_count": null,
   "metadata": {},
   "outputs": [],
   "source": []
  }
 ],
 "metadata": {
  "kernelspec": {
   "display_name": "Python 3",
   "language": "python",
   "name": "python3"
  },
  "language_info": {
   "codemirror_mode": {
    "name": "ipython",
    "version": 3
   },
   "file_extension": ".py",
   "mimetype": "text/x-python",
   "name": "python",
   "nbconvert_exporter": "python",
   "pygments_lexer": "ipython3",
   "version": "3.8.3"
  }
 },
 "nbformat": 4,
 "nbformat_minor": 4
}
